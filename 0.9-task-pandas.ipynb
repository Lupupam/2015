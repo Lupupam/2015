{
  "cells": [
    {
      "cell_type": "code",
      "execution_count": null,
      "metadata": {
        "id": "t2kEIBHZ-GeM"
      },
      "outputs": [],
      "source": [
        "# We will load all required modules first.\n",
        "try:\n",
        "    from dstaster import *\n",
        "except:\n",
        "    !pip install wget\n",
        "\n",
        "    import wget\n",
        "    url = 'https://raw.githubusercontent.com/BBKdatasciencetaster/DS/main/dstaster.py'\n",
        "    wget.download(url)\n",
        "    from dstaster import *\n",
        "    "
      ]
    },
    {
      "cell_type": "markdown",
      "metadata": {
        "id": "XCkr9lpe-GeO"
      },
      "source": [
        "<h2>Loading the dataset with pandas</h2>\n",
        "\n",
        "In this notebook we will use the pandas library to load the data from a comma-separated file. The file itself stores our data in a very simple table-like format:\n",
        "\n",
        "<pre style=\"font-size:10pt\">\n",
        ",artist,title,year,groundtruth,height,width\n",
        "T13896,John Constable,Salisbury Cathedral from the Meadows,1831,L,1537,1920\n",
        "T05010,Pablo Picasso,Weeping Woman,1937,O,608,500\n",
        "N05915,Pablo Picasso,Bust of a Woman,1909,P,727,600\n",
        "N00530,Joseph Mallord William Turner,Snow Storm - Steam-Boat off a Harbour’s Mouth,1842,L,914,1219\n",
        "T00598,Richard Dadd,The Fairy Feller’s Master-Stroke,1855,O,540,394\n",
        "...\n",
        "</pre>\n",
        "\n",
        "The first row contains the names of the different columns, every following line contains elements from the dataset. Now, we need to load this data into the notebook to work with it.  The following code cells shows how: it loads a dataset and stores it in the variable `collection`. The data is stored in a so-called `DataFrame` which is provided to us by the `pandas` library (abbreviated in the code by `pd`).\n",
        "\n",
        "The second line passes the DataFrame to the magic Jupyter `display(...)` function which provides us with a pretty-printed excerpt of the dataset. If you run the cell, you should see a table with six columns (artist, title, year, groundtruth, height and width)."
      ]
    },
    {
      "cell_type": "code",
      "execution_count": null,
      "metadata": {
        "id": "zH1prqCz-GeR",
        "outputId": "7818d338-6e14-40fd-c64a-eb52e0b88e12"
      },
      "outputs": [
        {
          "data": {
            "text/html": [
              "<div>\n",
              "<style scoped>\n",
              "    .dataframe tbody tr th:only-of-type {\n",
              "        vertical-align: middle;\n",
              "    }\n",
              "\n",
              "    .dataframe tbody tr th {\n",
              "        vertical-align: top;\n",
              "    }\n",
              "\n",
              "    .dataframe thead th {\n",
              "        text-align: right;\n",
              "    }\n",
              "</style>\n",
              "<table border=\"1\" class=\"dataframe\">\n",
              "  <thead>\n",
              "    <tr style=\"text-align: right;\">\n",
              "      <th></th>\n",
              "      <th>artist</th>\n",
              "      <th>title</th>\n",
              "      <th>year</th>\n",
              "      <th>groundtruth</th>\n",
              "      <th>height</th>\n",
              "      <th>width</th>\n",
              "    </tr>\n",
              "  </thead>\n",
              "  <tbody>\n",
              "    <tr>\n",
              "      <td>T13896</td>\n",
              "      <td>John Constable</td>\n",
              "      <td>Salisbury Cathedral from the Meadows</td>\n",
              "      <td>1831</td>\n",
              "      <td>L</td>\n",
              "      <td>1537</td>\n",
              "      <td>1920</td>\n",
              "    </tr>\n",
              "    <tr>\n",
              "      <td>T05010</td>\n",
              "      <td>Pablo Picasso</td>\n",
              "      <td>Weeping Woman</td>\n",
              "      <td>1937</td>\n",
              "      <td>O</td>\n",
              "      <td>608</td>\n",
              "      <td>500</td>\n",
              "    </tr>\n",
              "    <tr>\n",
              "      <td>N05915</td>\n",
              "      <td>Pablo Picasso</td>\n",
              "      <td>Bust of a Woman</td>\n",
              "      <td>1909</td>\n",
              "      <td>P</td>\n",
              "      <td>727</td>\n",
              "      <td>600</td>\n",
              "    </tr>\n",
              "    <tr>\n",
              "      <td>N00530</td>\n",
              "      <td>Joseph Mallord William Turner</td>\n",
              "      <td>Snow Storm - Steam-Boat off a Harbour’s Mouth</td>\n",
              "      <td>1842</td>\n",
              "      <td>L</td>\n",
              "      <td>914</td>\n",
              "      <td>1219</td>\n",
              "    </tr>\n",
              "    <tr>\n",
              "      <td>T00598</td>\n",
              "      <td>Richard Dadd</td>\n",
              "      <td>The Fairy Feller’s Master-Stroke</td>\n",
              "      <td>1855</td>\n",
              "      <td>O</td>\n",
              "      <td>540</td>\n",
              "      <td>394</td>\n",
              "    </tr>\n",
              "    <tr>\n",
              "      <td>...</td>\n",
              "      <td>...</td>\n",
              "      <td>...</td>\n",
              "      <td>...</td>\n",
              "      <td>...</td>\n",
              "      <td>...</td>\n",
              "      <td>...</td>\n",
              "    </tr>\n",
              "    <tr>\n",
              "      <td>N05609</td>\n",
              "      <td>Maurice Sterne</td>\n",
              "      <td>Mexican Church Interior</td>\n",
              "      <td>1934</td>\n",
              "      <td>O</td>\n",
              "      <td>1283</td>\n",
              "      <td>1022</td>\n",
              "    </tr>\n",
              "    <tr>\n",
              "      <td>T14823</td>\n",
              "      <td>Unknown artist</td>\n",
              "      <td>Leon Trotsky</td>\n",
              "      <td>1980</td>\n",
              "      <td>P</td>\n",
              "      <td>510</td>\n",
              "      <td>480</td>\n",
              "    </tr>\n",
              "    <tr>\n",
              "      <td>AL00397</td>\n",
              "      <td>Louise Bourgeois</td>\n",
              "      <td>Untitled</td>\n",
              "      <td>1946</td>\n",
              "      <td>O</td>\n",
              "      <td>660</td>\n",
              "      <td>1116</td>\n",
              "    </tr>\n",
              "    <tr>\n",
              "      <td>T14824</td>\n",
              "      <td>Unknown artist</td>\n",
              "      <td>Leon Trotsky</td>\n",
              "      <td>1980</td>\n",
              "      <td>P</td>\n",
              "      <td>638</td>\n",
              "      <td>511</td>\n",
              "    </tr>\n",
              "    <tr>\n",
              "      <td>T14825</td>\n",
              "      <td>Unknown artist</td>\n",
              "      <td>Leon Trotsky</td>\n",
              "      <td>1980</td>\n",
              "      <td>P</td>\n",
              "      <td>567</td>\n",
              "      <td>455</td>\n",
              "    </tr>\n",
              "  </tbody>\n",
              "</table>\n",
              "<p>2158 rows × 6 columns</p>\n",
              "</div>"
            ],
            "text/plain": [
              "                                artist  \\\n",
              "T13896                  John Constable   \n",
              "T05010                   Pablo Picasso   \n",
              "N05915                   Pablo Picasso   \n",
              "N00530   Joseph Mallord William Turner   \n",
              "T00598                    Richard Dadd   \n",
              "...                                ...   \n",
              "N05609                  Maurice Sterne   \n",
              "T14823                  Unknown artist   \n",
              "AL00397               Louise Bourgeois   \n",
              "T14824                  Unknown artist   \n",
              "T14825                  Unknown artist   \n",
              "\n",
              "                                                 title  year groundtruth  \\\n",
              "T13896            Salisbury Cathedral from the Meadows  1831           L   \n",
              "T05010                                   Weeping Woman  1937           O   \n",
              "N05915                                 Bust of a Woman  1909           P   \n",
              "N00530   Snow Storm - Steam-Boat off a Harbour’s Mouth  1842           L   \n",
              "T00598                The Fairy Feller’s Master-Stroke  1855           O   \n",
              "...                                                ...   ...         ...   \n",
              "N05609                         Mexican Church Interior  1934           O   \n",
              "T14823                                    Leon Trotsky  1980           P   \n",
              "AL00397                                       Untitled  1946           O   \n",
              "T14824                                    Leon Trotsky  1980           P   \n",
              "T14825                                    Leon Trotsky  1980           P   \n",
              "\n",
              "         height  width  \n",
              "T13896     1537   1920  \n",
              "T05010      608    500  \n",
              "N05915      727    600  \n",
              "N00530      914   1219  \n",
              "T00598      540    394  \n",
              "...         ...    ...  \n",
              "N05609     1283   1022  \n",
              "T14823      510    480  \n",
              "AL00397     660   1116  \n",
              "T14824      638    511  \n",
              "T14825      567    455  \n",
              "\n",
              "[2158 rows x 6 columns]"
            ]
          },
          "metadata": {},
          "output_type": "display_data"
        }
      ],
      "source": [
        "collection = pd.read_csv(\"https://raw.githubusercontent.com/BBKdatasciencetaster/DS/main/data/paintings.csv\", index_col=0)\n",
        "display(collection)"
      ]
    },
    {
      "cell_type": "markdown",
      "metadata": {
        "id": "d6GwBAtR-GeS"
      },
      "source": [
        "Pandas DataFrames are very powerful data structures that come with a lot of useful functionality. For example, we can ask the DataFrame to compute common statistics for all numerical columns. When we call `collection.describe()` we receive a new DataFrame containing the summary of `collection`. Note that we can leave away the call to `display`: Jupyter automatically displays whatever the last statement in the cell returns."
      ]
    },
    {
      "cell_type": "code",
      "execution_count": null,
      "metadata": {
        "id": "OUzM5mQf-GeT",
        "outputId": "940ac820-fc01-452d-8ab2-b88baba5ebe7"
      },
      "outputs": [
        {
          "data": {
            "text/html": [
              "<div>\n",
              "<style scoped>\n",
              "    .dataframe tbody tr th:only-of-type {\n",
              "        vertical-align: middle;\n",
              "    }\n",
              "\n",
              "    .dataframe tbody tr th {\n",
              "        vertical-align: top;\n",
              "    }\n",
              "\n",
              "    .dataframe thead th {\n",
              "        text-align: right;\n",
              "    }\n",
              "</style>\n",
              "<table border=\"1\" class=\"dataframe\">\n",
              "  <thead>\n",
              "    <tr style=\"text-align: right;\">\n",
              "      <th></th>\n",
              "      <th>year</th>\n",
              "      <th>height</th>\n",
              "      <th>width</th>\n",
              "    </tr>\n",
              "  </thead>\n",
              "  <tbody>\n",
              "    <tr>\n",
              "      <td>count</td>\n",
              "      <td>2158.000000</td>\n",
              "      <td>2158.000000</td>\n",
              "      <td>2158.000000</td>\n",
              "    </tr>\n",
              "    <tr>\n",
              "      <td>mean</td>\n",
              "      <td>1873.828082</td>\n",
              "      <td>960.444856</td>\n",
              "      <td>1026.646895</td>\n",
              "    </tr>\n",
              "    <tr>\n",
              "      <td>std</td>\n",
              "      <td>76.739168</td>\n",
              "      <td>529.841346</td>\n",
              "      <td>642.269151</td>\n",
              "    </tr>\n",
              "    <tr>\n",
              "      <td>min</td>\n",
              "      <td>1594.000000</td>\n",
              "      <td>137.000000</td>\n",
              "      <td>102.000000</td>\n",
              "    </tr>\n",
              "    <tr>\n",
              "      <td>25%</td>\n",
              "      <td>1824.000000</td>\n",
              "      <td>610.000000</td>\n",
              "      <td>616.000000</td>\n",
              "    </tr>\n",
              "    <tr>\n",
              "      <td>50%</td>\n",
              "      <td>1889.500000</td>\n",
              "      <td>813.000000</td>\n",
              "      <td>893.500000</td>\n",
              "    </tr>\n",
              "    <tr>\n",
              "      <td>75%</td>\n",
              "      <td>1934.000000</td>\n",
              "      <td>1219.000000</td>\n",
              "      <td>1232.000000</td>\n",
              "    </tr>\n",
              "    <tr>\n",
              "      <td>max</td>\n",
              "      <td>2017.000000</td>\n",
              "      <td>4285.000000</td>\n",
              "      <td>8915.000000</td>\n",
              "    </tr>\n",
              "  </tbody>\n",
              "</table>\n",
              "</div>"
            ],
            "text/plain": [
              "              year       height        width\n",
              "count  2158.000000  2158.000000  2158.000000\n",
              "mean   1873.828082   960.444856  1026.646895\n",
              "std      76.739168   529.841346   642.269151\n",
              "min    1594.000000   137.000000   102.000000\n",
              "25%    1824.000000   610.000000   616.000000\n",
              "50%    1889.500000   813.000000   893.500000\n",
              "75%    1934.000000  1219.000000  1232.000000\n",
              "max    2017.000000  4285.000000  8915.000000"
            ]
          },
          "execution_count": 5,
          "metadata": {},
          "output_type": "execute_result"
        }
      ],
      "source": [
        "collection.describe()"
      ]
    },
    {
      "cell_type": "markdown",
      "metadata": {
        "id": "QXCIHdEe-GeU"
      },
      "source": [
        "<h2>Working with columns</h2>\n",
        "\n",
        "Each column of the DataFrame can be access individually using the index brackets `[]`. For example, `collection['artist']` will give us the artist column, `collection['year']` the year column and so on. \n",
        "\n",
        "<div class=\"note\">Note: A single column of a DataFrame is a data structure called a Series, so it's representation in the notebook looks slightly differently.</div>\n",
        "\n",
        "<div class=\"task\">\n",
        "    <div class=\"no\">1</div>\n",
        "    <div class=\"text\">\n",
        "        Change the index string in the following cell to\n",
        "        values other than <code>'artist'</code> and observe how \n",
        "        the output changes.\n",
        "    </div>\n",
        "</div>"
      ]
    },
    {
      "cell_type": "code",
      "execution_count": null,
      "metadata": {
        "id": "SVL40iqk-GeV",
        "outputId": "cb7b4e86-3e46-49fe-8622-2cafe6f2278d"
      },
      "outputs": [
        {
          "data": {
            "text/plain": [
              "T13896                    John Constable\n",
              "T05010                     Pablo Picasso\n",
              "N05915                     Pablo Picasso\n",
              "N00530     Joseph Mallord William Turner\n",
              "T00598                      Richard Dadd\n",
              "                       ...              \n",
              "N05609                    Maurice Sterne\n",
              "T14823                    Unknown artist\n",
              "AL00397                 Louise Bourgeois\n",
              "T14824                    Unknown artist\n",
              "T14825                    Unknown artist\n",
              "Name: artist, Length: 2158, dtype: object"
            ]
          },
          "execution_count": 6,
          "metadata": {},
          "output_type": "execute_result"
        }
      ],
      "source": [
        "collection['artist']"
      ]
    },
    {
      "cell_type": "markdown",
      "metadata": {
        "id": "iKWg_vgs-GeX"
      },
      "source": [
        "Pandas series also come equip with a number of methods that allow us to quickly compute various statistics. Let's say we want to find out which artist appear most often in our dataset. Then we can use the method `.value_counts()` to obtain a count for every unique entry in `collection['artist']`. The output is already sorted from hight to low, so we can read of the most common artist at the top:"
      ]
    },
    {
      "cell_type": "code",
      "execution_count": null,
      "metadata": {
        "id": "IVmYgEEX-GeY",
        "outputId": "9c361bb6-35cd-44c0-fc9b-8246c3fadc90"
      },
      "outputs": [
        {
          "data": {
            "text/plain": [
              "Joseph Mallord William Turner    240\n",
              "John Constable                    34\n",
              "John Singer Sargent               32\n",
              "Sir Joshua Reynolds               30\n",
              "Thomas Gainsborough               25\n",
              "                                ... \n",
              "Richard Cook                       1\n",
              "Henry Inlander                     1\n",
              "William Hodges                     1\n",
              "Clive Gardiner                     1\n",
              "Jasper Johns                       1\n",
              "Name: artist, Length: 869, dtype: int64"
            ]
          },
          "execution_count": 7,
          "metadata": {},
          "output_type": "execute_result"
        }
      ],
      "source": [
        "collection['artist'].value_counts()"
      ]
    },
    {
      "cell_type": "markdown",
      "metadata": {
        "id": "VMVqdH5M-Gec"
      },
      "source": [
        "The <a href=\"https://pandas.pydata.org/pandas-docs/stable/reference/api/pandas.Series.html\">complete list of available methods</a> to aggregate and modify pandas Series is quite long! A few methods we are interested in are `.sum()`, `.count()`, `.mean()`, `.min()`, `.median()`, and `.max()`.\n",
        "\n",
        "<div class=\"task\">\n",
        "    <div class=\"no\">2</div>\n",
        "    <div class=\"text\">\n",
        "        Change <code>.sum()</code> in the following cell to the methods \n",
        "        mentioned above and observe the resulting output.\n",
        "    </div>\n",
        "</div>"
      ]
    },
    {
      "cell_type": "code",
      "execution_count": null,
      "metadata": {
        "id": "qQdA2C_U-Ged",
        "outputId": "a80cf589-afe5-4060-af13-31ae118e3354"
      },
      "outputs": [
        {
          "data": {
            "text/plain": [
              "2215504"
            ]
          },
          "execution_count": 8,
          "metadata": {},
          "output_type": "execute_result"
        }
      ],
      "source": [
        "collection['width'].sum()"
      ]
    },
    {
      "cell_type": "markdown",
      "metadata": {
        "id": "siXic0af-Gef"
      },
      "source": [
        "<div class=\"task\">\n",
        "    <div class=\"no\">3</div>\n",
        "    <div class=\"text\">\n",
        "        We would like to know which range of years the collection covers. Use the cell above to find out\n",
        "        the <b>earliest</b> and <b>latest</b> year for which the collection contains a painting. Return to FutureLearn to discuss your experience and your findings!\n",
        "    </div>\n",
        "</div>"
      ]
    },
    {
      "cell_type": "code",
      "execution_count": null,
      "metadata": {
        "id": "1X4CYxwf-Geg"
      },
      "outputs": [],
      "source": []
    }
  ],
  "metadata": {
    "kernelspec": {
      "display_name": "Python 3",
      "language": "python",
      "name": "python3"
    },
    "language_info": {
      "codemirror_mode": {
        "name": "ipython",
        "version": 3
      },
      "file_extension": ".py",
      "mimetype": "text/x-python",
      "name": "python",
      "nbconvert_exporter": "python",
      "pygments_lexer": "ipython3",
      "version": "3.6.8"
    },
    "colab": {
      "provenance": []
    }
  },
  "nbformat": 4,
  "nbformat_minor": 0
}